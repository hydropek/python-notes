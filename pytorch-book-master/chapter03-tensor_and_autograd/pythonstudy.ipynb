{
 "cells": [
  {
   "cell_type": "code",
   "execution_count": 1,
   "id": "13059f5d",
   "metadata": {},
   "outputs": [
    {
     "name": "stdout",
     "output_type": "stream",
     "text": [
      "Please input A:\n",
      "2\n",
      "Please input B:\n",
      "3\n",
      "A+B= 5.0\n"
     ]
    }
   ],
   "source": [
    "a=input(\"Please input A:\\n\")\n",
    "a=float(a)\n",
    "b=input(\"Please input B:\\n\")\n",
    "b=float(b)\n",
    "print(\"A+B=\",a+b)"
   ]
  },
  {
   "cell_type": "code",
   "execution_count": 2,
   "id": "881eae33",
   "metadata": {},
   "outputs": [
    {
     "name": "stdout",
     "output_type": "stream",
     "text": [
      "14930352\n",
      "0:00:08.313441\n"
     ]
    }
   ],
   "source": [
    "import datetime\n",
    "def fib(n):\n",
    "    #print(\"Fib(%d) is called.\" % (n,))\n",
    "    if n<=0:\n",
    "        return 0\n",
    "    if n==1:\n",
    "        return 1\n",
    "    return fib(n-1)+fib(n-2)\n",
    "before_run=datetime.datetime.now()\n",
    "print(fib(36))\n",
    "print(datetime.datetime.now()-before_run)"
   ]
  },
  {
   "cell_type": "code",
   "execution_count": 3,
   "id": "b22e1d91",
   "metadata": {},
   "outputs": [
    {
     "name": "stdout",
     "output_type": "stream",
     "text": [
      "Fib(40) is called.\n",
      "Fib(39) is called.\n",
      "Fib(38) is called.\n",
      "Fib(37) is called.\n",
      "Fib(36) is called.\n",
      "Fib(35) is called.\n",
      "Fib(34) is called.\n",
      "Fib(33) is called.\n",
      "Fib(32) is called.\n",
      "Fib(31) is called.\n",
      "Fib(30) is called.\n",
      "Fib(29) is called.\n",
      "Fib(28) is called.\n",
      "Fib(27) is called.\n",
      "Fib(26) is called.\n",
      "Fib(25) is called.\n",
      "Fib(24) is called.\n",
      "Fib(23) is called.\n",
      "Fib(22) is called.\n",
      "Fib(21) is called.\n",
      "Fib(20) is called.\n",
      "Fib(19) is called.\n",
      "Fib(18) is called.\n",
      "Fib(17) is called.\n",
      "Fib(16) is called.\n",
      "Fib(15) is called.\n",
      "Fib(14) is called.\n",
      "Fib(13) is called.\n",
      "Fib(12) is called.\n",
      "Fib(11) is called.\n",
      "Fib(10) is called.\n",
      "Fib(9) is called.\n",
      "Fib(8) is called.\n",
      "Fib(7) is called.\n",
      "Fib(6) is called.\n",
      "Fib(5) is called.\n",
      "Fib(4) is called.\n",
      "Fib(3) is called.\n",
      "Fib(2) is called.\n",
      "Fib(1) is called.\n",
      "Fib(0) is called.\n",
      "Fib(2) is stored.\n",
      "Fib(1) is called.\n",
      "Fib(3) is stored.\n",
      "Fib(2) is called.\n",
      "Fib(4) is stored.\n",
      "Fib(3) is called.\n",
      "Fib(5) is stored.\n",
      "Fib(4) is called.\n",
      "Fib(6) is stored.\n",
      "Fib(5) is called.\n",
      "Fib(7) is stored.\n",
      "Fib(6) is called.\n",
      "Fib(8) is stored.\n",
      "Fib(7) is called.\n",
      "Fib(9) is stored.\n",
      "Fib(8) is called.\n",
      "Fib(10) is stored.\n",
      "Fib(9) is called.\n",
      "Fib(11) is stored.\n",
      "Fib(10) is called.\n",
      "Fib(12) is stored.\n",
      "Fib(11) is called.\n",
      "Fib(13) is stored.\n",
      "Fib(12) is called.\n",
      "Fib(14) is stored.\n",
      "Fib(13) is called.\n",
      "Fib(15) is stored.\n",
      "Fib(14) is called.\n",
      "Fib(16) is stored.\n",
      "Fib(15) is called.\n",
      "Fib(17) is stored.\n",
      "Fib(16) is called.\n",
      "Fib(18) is stored.\n",
      "Fib(17) is called.\n",
      "Fib(19) is stored.\n",
      "Fib(18) is called.\n",
      "Fib(20) is stored.\n",
      "Fib(19) is called.\n",
      "Fib(21) is stored.\n",
      "Fib(20) is called.\n",
      "Fib(22) is stored.\n",
      "Fib(21) is called.\n",
      "Fib(23) is stored.\n",
      "Fib(22) is called.\n",
      "Fib(24) is stored.\n",
      "Fib(23) is called.\n",
      "Fib(25) is stored.\n",
      "Fib(24) is called.\n",
      "Fib(26) is stored.\n",
      "Fib(25) is called.\n",
      "Fib(27) is stored.\n",
      "Fib(26) is called.\n",
      "Fib(28) is stored.\n",
      "Fib(27) is called.\n",
      "Fib(29) is stored.\n",
      "Fib(28) is called.\n",
      "Fib(30) is stored.\n",
      "Fib(29) is called.\n",
      "Fib(31) is stored.\n",
      "Fib(30) is called.\n",
      "Fib(32) is stored.\n",
      "Fib(31) is called.\n",
      "Fib(33) is stored.\n",
      "Fib(32) is called.\n",
      "Fib(34) is stored.\n",
      "Fib(33) is called.\n",
      "Fib(35) is stored.\n",
      "Fib(34) is called.\n",
      "Fib(36) is stored.\n",
      "Fib(35) is called.\n",
      "Fib(37) is stored.\n",
      "Fib(36) is called.\n",
      "Fib(38) is stored.\n",
      "Fib(37) is called.\n",
      "Fib(39) is stored.\n",
      "Fib(38) is called.\n",
      "Fib(40) is stored.\n",
      "102334155\n",
      "0:00:00.014633\n"
     ]
    }
   ],
   "source": [
    "import datetime\n",
    "know_seq_values={0:0,1:1}\n",
    "def fib(n):\n",
    "    print(\"Fib(%d) is called.\" % (n,))\n",
    "    if n in know_seq_values:\n",
    "        return know_seq_values[n]\n",
    "    ans=fib(n-1)+fib(n-2)\n",
    "    know_seq_values[n]=ans\n",
    "    print(\"Fib(%d) is stored.\" % (n,))\n",
    "    return ans\n",
    "before_run=datetime.datetime.now()\n",
    "print(fib(40))\n",
    "print(datetime.datetime.now()-before_run)"
   ]
  },
  {
   "cell_type": "code",
   "execution_count": 4,
   "id": "a7ffad5f",
   "metadata": {},
   "outputs": [
    {
     "data": {
      "text/plain": [
       "{0: 0,\n",
       " 1: 1,\n",
       " 2: 1,\n",
       " 3: 2,\n",
       " 4: 3,\n",
       " 5: 5,\n",
       " 6: 8,\n",
       " 7: 13,\n",
       " 8: 21,\n",
       " 9: 34,\n",
       " 10: 55,\n",
       " 11: 89,\n",
       " 12: 144,\n",
       " 13: 233,\n",
       " 14: 377,\n",
       " 15: 610,\n",
       " 16: 987,\n",
       " 17: 1597,\n",
       " 18: 2584,\n",
       " 19: 4181,\n",
       " 20: 6765,\n",
       " 21: 10946,\n",
       " 22: 17711,\n",
       " 23: 28657,\n",
       " 24: 46368,\n",
       " 25: 75025,\n",
       " 26: 121393,\n",
       " 27: 196418,\n",
       " 28: 317811,\n",
       " 29: 514229,\n",
       " 30: 832040,\n",
       " 31: 1346269,\n",
       " 32: 2178309,\n",
       " 33: 3524578,\n",
       " 34: 5702887,\n",
       " 35: 9227465,\n",
       " 36: 14930352,\n",
       " 37: 24157817,\n",
       " 38: 39088169,\n",
       " 39: 63245986,\n",
       " 40: 102334155}"
      ]
     },
     "execution_count": 4,
     "metadata": {},
     "output_type": "execute_result"
    }
   ],
   "source": [
    "know_seq_values"
   ]
  },
  {
   "cell_type": "code",
   "execution_count": 26,
   "id": "1269a9e0",
   "metadata": {},
   "outputs": [
    {
     "name": "stdout",
     "output_type": "stream",
     "text": [
      "888\n",
      "999\n",
      "hello world\n"
     ]
    }
   ],
   "source": [
    "class MyClass:\n",
    "    \"\"\"A simple example class\"\"\"\n",
    "    def __init__(self):\n",
    "        self.i=888\n",
    "        self._j=999\n",
    "    def getJ(self):\n",
    "        return self._j\n",
    "    def f(self):\n",
    "        return 'hello world'\n",
    "x=MyClass()\n",
    "print(x.i)\n",
    "print(x.getJ())\n",
    "print(x.f())"
   ]
  },
  {
   "cell_type": "code",
   "execution_count": null,
   "id": "8f497844",
   "metadata": {},
   "outputs": [],
   "source": []
  }
 ],
 "metadata": {
  "kernelspec": {
   "display_name": "Python 3",
   "language": "python",
   "name": "python3"
  },
  "language_info": {
   "codemirror_mode": {
    "name": "ipython",
    "version": 3
   },
   "file_extension": ".py",
   "mimetype": "text/x-python",
   "name": "python",
   "nbconvert_exporter": "python",
   "pygments_lexer": "ipython3",
   "version": "3.8.8"
  }
 },
 "nbformat": 4,
 "nbformat_minor": 5
}
