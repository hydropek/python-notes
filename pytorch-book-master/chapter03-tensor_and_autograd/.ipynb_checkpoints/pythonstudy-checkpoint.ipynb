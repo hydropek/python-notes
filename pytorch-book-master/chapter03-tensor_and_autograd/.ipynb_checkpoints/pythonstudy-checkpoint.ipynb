{
 "cells": [
  {
   "cell_type": "code",
   "execution_count": 1,
   "id": "13059f5d",
   "metadata": {},
   "outputs": [
    {
     "name": "stdout",
     "output_type": "stream",
     "text": [
      "Please input A:\n",
      "2\n",
      "Please input B:\n",
      "3\n",
      "A+B= 5.0\n"
     ]
    }
   ],
   "source": [
    "a=input(\"Please input A:\\n\")\n",
    "a=float(a)\n",
    "b=input(\"Please input B:\\n\")\n",
    "b=float(b)\n",
    "print(\"A+B=\",a+b)"
   ]
  },
  {
   "cell_type": "code",
   "execution_count": 2,
   "id": "881eae33",
   "metadata": {},
   "outputs": [
    {
     "name": "stdout",
     "output_type": "stream",
     "text": [
      "14930352\n",
      "0:00:08.313441\n"
     ]
    }
   ],
   "source": [
    "import datetime\n",
    "def fib(n):\n",
    "    #print(\"Fib(%d) is called.\" % (n,))\n",
    "    if n<=0:\n",
    "        return 0\n",
    "    if n==1:\n",
    "        return 1\n",
    "    return fib(n-1)+fib(n-2)\n",
    "before_run=datetime.datetime.now()\n",
    "print(fib(36))\n",
    "print(datetime.datetime.now()-before_run)"
   ]
  },
  {
   "cell_type": "code",
   "execution_count": null,
   "id": "b22e1d91",
   "metadata": {},
   "outputs": [],
   "source": [
    "import datetime\n",
    "know_seq_values={0:0,1:1}\n",
    "def fib(n):\n",
    "    print(\"Fib(%d) is called.\" % (n,))\n",
    "    if n in know_seq_values:\n",
    "        return know_seq_values[n]\n",
    "    ans=fib(n-1)+fib(n-2)\n",
    "    know_seq_values[n]=ans\n",
    "    print(\"Fib(%d) is stored.\" % (n,))\n",
    "    return ans\n",
    "before_run=datetime.datetime.now()\n",
    "print(fib(40))\n",
    "print(datetime.datetime.now()-before_run)"
   ]
  },
  {
   "cell_type": "code",
   "execution_count": null,
   "id": "a7ffad5f",
   "metadata": {},
   "outputs": [],
   "source": [
    "know_seq_values"
   ]
  },
  {
   "cell_type": "code",
   "execution_count": 26,
   "id": "1269a9e0",
   "metadata": {},
   "outputs": [
    {
     "name": "stdout",
     "output_type": "stream",
     "text": [
      "888\n",
      "999\n",
      "hello world\n"
     ]
    }
   ],
   "source": [
    "class MyClass:\n",
    "    \"\"\"A simple example class\"\"\"\n",
    "    def __init__(self):\n",
    "        self.i=888\n",
    "        self._j=999\n",
    "    def getJ(self):\n",
    "        return self._j\n",
    "    def f(self):\n",
    "        return 'hello world'\n",
    "x=MyClass()\n",
    "print(x.i)\n",
    "print(x.getJ())\n",
    "print(x.f())"
   ]
  },
  {
   "cell_type": "code",
   "execution_count": null,
   "id": "8f497844",
   "metadata": {},
   "outputs": [],
   "source": []
  }
 ],
 "metadata": {
  "kernelspec": {
   "display_name": "Python 3",
   "language": "python",
   "name": "python3"
  },
  "language_info": {
   "codemirror_mode": {
    "name": "ipython",
    "version": 3
   },
   "file_extension": ".py",
   "mimetype": "text/x-python",
   "name": "python",
   "nbconvert_exporter": "python",
   "pygments_lexer": "ipython3",
   "version": "3.8.8"
  }
 },
 "nbformat": 4,
 "nbformat_minor": 5
}
